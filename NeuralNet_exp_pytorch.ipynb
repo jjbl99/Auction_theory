{
 "cells": [
  {
   "cell_type": "code",
   "execution_count": 4,
   "metadata": {},
   "outputs": [
    {
     "data": {
      "text/plain": [
       "<module 'distributions' from '/Users/julesbaudet/Desktop/AUCTION THEORY/code/adversarial_auctions/Jules/distributions.py'>"
      ]
     },
     "execution_count": 4,
     "metadata": {},
     "output_type": "execute_result"
    }
   ],
   "source": [
    "import importlib\n",
    "import regretNet_pytorch_2\n",
    "importlib.reload(regretNet_pytorch_2)\n",
    "from regretNet_pytorch_2 import *\n",
    "import torch\n",
    "import torch.nn as nn\n",
    "import matplotlib.pyplot as plt\n",
    "#importlib.reload(losses)\n",
    "#importlib.reload(utils)\n",
    "import numpy as np\n",
    "import distributions\n",
    "importlib.reload(distributions)"
   ]
  },
  {
   "cell_type": "code",
   "execution_count": null,
   "metadata": {},
   "outputs": [
    {
     "name": "stdout",
     "output_type": "stream",
     "text": [
      "code has been running for 19.79 sec, 0.04 %, exp revenue: [0.]\n",
      "code has been running for 39.87 sec, 0.09 %, exp revenue: [0.]\n",
      "code has been running for 61.75 sec, 0.13 %, exp revenue: [0.]\n",
      "code has been running for 81.31 sec, 0.17 %, exp revenue: [0.]\n",
      "code has been running for 100.65 sec, 0.21 %, exp revenue: [0.]\n",
      "code has been running for 120.52 sec, 0.26 %, exp revenue: [0.]\n",
      "code has been running for 141.33 sec, 0.3 %, exp revenue: [0.]\n",
      "code has been running for 164.11 sec, 0.34 %, exp revenue: [0.]\n",
      "code has been running for 183.99 sec, 0.38 %, exp revenue: [0.]\n",
      "code has been running for 203.95 sec, 0.43 %, exp revenue: [0.]\n",
      "code has been running for 224.16 sec, 0.47 %, exp revenue: [0.]\n",
      "code has been running for 243.98 sec, 0.51 %, exp revenue: [0.]\n",
      "code has been running for 264.04 sec, 0.55 %, exp revenue: [0.]\n",
      "code has been running for 284.3 sec, 0.6 %, exp revenue: [0.]\n",
      "code has been running for 304.32 sec, 0.64 %, exp revenue: [0.]\n",
      "code has been running for 326.99 sec, 0.68 %, exp revenue: [0.]\n",
      "code has been running for 346.68 sec, 0.73 %, exp revenue: [0.]\n",
      "code has been running for 366.01 sec, 0.77 %, exp revenue: [0.]\n",
      "code has been running for 386.72 sec, 0.81 %, exp revenue: [0.]\n",
      "code has been running for 407.32 sec, 0.85 %, exp revenue: [0.]\n",
      "code has been running for 427.68 sec, 0.9 %, exp revenue: [0.]\n",
      "code has been running for 448.13 sec, 0.94 %, exp revenue: [0.]\n",
      "code has been running for 468.87 sec, 0.98 %, exp revenue: [0.]\n",
      "code has been running for 489.33 sec, 1.02 %, exp revenue: [0.]\n",
      "code has been running for 509.22 sec, 1.07 %, exp revenue: [0.]\n",
      "code has been running for 530.17 sec, 1.11 %, exp revenue: [0.]\n",
      "code has been running for 550.25 sec, 1.15 %, exp revenue: [0.]\n",
      "code has been running for 571.7 sec, 1.2 %, exp revenue: [0.]\n",
      "code has been running for 591.94 sec, 1.24 %, exp revenue: [0.]\n",
      "code has been running for 612.65 sec, 1.28 %, exp revenue: [0.]\n",
      "code has been running for 632.94 sec, 1.32 %, exp revenue: [0.]\n",
      "code has been running for 655.79 sec, 1.37 %, exp revenue: [0.]\n",
      "code has been running for 675.96 sec, 1.41 %, exp revenue: [0.]\n",
      "code has been running for 696.03 sec, 1.45 %, exp revenue: [0.]\n",
      "code has been running for 716.13 sec, 1.49 %, exp revenue: [0.]\n",
      "code has been running for 737.46 sec, 1.54 %, exp revenue: [0.]\n",
      "code has been running for 758.01 sec, 1.58 %, exp revenue: [0.]\n",
      "code has been running for 778.61 sec, 1.62 %, exp revenue: [0.]\n",
      "code has been running for 798.61 sec, 1.66 %, exp revenue: [0.]\n",
      "code has been running for 818.94 sec, 1.71 %, exp revenue: [0.]\n",
      "code has been running for 839.89 sec, 1.75 %, exp revenue: [0.]\n",
      "code has been running for 860.51 sec, 1.79 %, exp revenue: [0.]\n",
      "code has been running for 884.1 sec, 1.84 %, exp revenue: [0.]\n",
      "code has been running for 908.26 sec, 1.88 %, exp revenue: [0.]\n",
      "code has been running for 931.48 sec, 1.92 %, exp revenue: [0.]\n"
     ]
    }
   ],
   "source": [
    "n_epochs = 10\n",
    "n_bidders = 2\n",
    "n_objects = 2\n",
    "distrib_list = [distributions.UniformDistrib(), distributions.UniformDistrib()]\n",
    "env = Auction_Environment(n_bidders, n_objects, distrib_list)\n",
    "net = Add_Network(env)\n",
    "#print(net.alloc_net)\n",
    "#print(net.pay_net)\n",
    "\n",
    "trainer = Trainer(env, net)\n",
    "for _ in range(n_epochs):\n",
    "    trainer.train()\n",
    "\n",
    "torch.save(trainer.net, '/Users/julesbaudet/Desktop/model_one_bidder')"
   ]
  },
  {
   "cell_type": "code",
   "execution_count": null,
   "metadata": {},
   "outputs": [],
   "source": []
  }
 ],
 "metadata": {
  "kernelspec": {
   "display_name": "Python 3",
   "language": "python",
   "name": "python3"
  },
  "language_info": {
   "codemirror_mode": {
    "name": "ipython",
    "version": 3
   },
   "file_extension": ".py",
   "mimetype": "text/x-python",
   "name": "python",
   "nbconvert_exporter": "python",
   "pygments_lexer": "ipython3",
   "version": "3.7.3"
  }
 },
 "nbformat": 4,
 "nbformat_minor": 2
}
